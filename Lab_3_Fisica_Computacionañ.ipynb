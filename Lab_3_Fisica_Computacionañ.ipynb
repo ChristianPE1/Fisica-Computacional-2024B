{
  "nbformat": 4,
  "nbformat_minor": 0,
  "metadata": {
    "colab": {
      "provenance": []
    },
    "kernelspec": {
      "name": "python3",
      "display_name": "Python 3"
    },
    "language_info": {
      "name": "python"
    }
  },
  "cells": [
    {
      "cell_type": "code",
      "execution_count": 2,
      "metadata": {
        "id": "y5SyX1NF1UKG"
      },
      "outputs": [],
      "source": [
        "def segunda_ley_newton():\n",
        "    print(\"¿Qué deseas calcular?\")\n",
        "    print(\"1. Fuerza\\n2. Masa\\n3. Aceleración\\n\")\n",
        "\n",
        "    opcion = int(input(\"Ingresa el número de la opción: \"))\n",
        "\n",
        "    if opcion == 1:\n",
        "        masa = float(input(\"Introduce la masa (kg): \"))\n",
        "        aceleracion = float(input(\"Introduce la aceleración (m/s^2): \"))\n",
        "        fuerza = masa * aceleracion\n",
        "        print(f\"La fuerza es {fuerza} N\")\n",
        "    elif opcion == 2:\n",
        "        fuerza = float(input(\"Introduce la fuerza (N): \"))\n",
        "        aceleracion = float(input(\"Introduce la aceleración (m/s^2): \"))\n",
        "        masa = fuerza / aceleracion\n",
        "        print(f\"La masa es {masa} kg\")\n",
        "    elif opcion == 3:\n",
        "        fuerza = float(input(\"Introduce la fuerza (N): \"))\n",
        "        masa = float(input(\"Introduce la masa (kg): \"))\n",
        "        aceleracion = fuerza / masa\n",
        "        print(f\"La aceleración es {aceleracion} m/s^2\")\n",
        "    else:\n",
        "        print(\"Opción no válida\")"
      ]
    },
    {
      "cell_type": "code",
      "source": [
        "\n",
        "print(\"\\nCalculara 2da Ley de Newton\")\n",
        "segunda_ley_newton()"
      ],
      "metadata": {
        "colab": {
          "base_uri": "https://localhost:8080/"
        },
        "id": "hVyseyX46Te-",
        "outputId": "6547981a-7bf9-465f-885b-3702cdca5714"
      },
      "execution_count": 3,
      "outputs": [
        {
          "output_type": "stream",
          "name": "stdout",
          "text": [
            "\n",
            "Calculara 2da Ley de Newton\n",
            "¿Qué deseas calcular?\n",
            "1. Fuerza\n",
            "2. Masa\n",
            "3. Aceleración\n",
            "\n",
            "Ingresa el número de la opción: 1\n",
            "Introduce la masa (kg): 15\n",
            "Introduce la aceleración (m/s^2): 20\n",
            "La fuerza es 300.0 N\n"
          ]
        }
      ]
    }
  ]
}